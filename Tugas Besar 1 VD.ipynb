{
 "cells": [
  {
   "cell_type": "code",
   "execution_count": 70,
   "id": "d477ddfc",
   "metadata": {},
   "outputs": [],
   "source": [
    "import pandas as pd\n",
    "import matplotlib.pyplot as plt\n",
    "import seaborn as sns\n",
    "import numpy as np"
   ]
  },
  {
   "cell_type": "code",
   "execution_count": 63,
   "id": "4cc0cc00",
   "metadata": {},
   "outputs": [
    {
     "data": {
      "text/html": [
       "<div>\n",
       "<style scoped>\n",
       "    .dataframe tbody tr th:only-of-type {\n",
       "        vertical-align: middle;\n",
       "    }\n",
       "\n",
       "    .dataframe tbody tr th {\n",
       "        vertical-align: top;\n",
       "    }\n",
       "\n",
       "    .dataframe thead th {\n",
       "        text-align: right;\n",
       "    }\n",
       "</style>\n",
       "<table border=\"1\" class=\"dataframe\">\n",
       "  <thead>\n",
       "    <tr style=\"text-align: right;\">\n",
       "      <th></th>\n",
       "      <th>sepal-length</th>\n",
       "      <th>sepal-width</th>\n",
       "      <th>petal-length</th>\n",
       "      <th>petal-width</th>\n",
       "      <th>class</th>\n",
       "    </tr>\n",
       "  </thead>\n",
       "  <tbody>\n",
       "    <tr>\n",
       "      <th>0</th>\n",
       "      <td>5.1</td>\n",
       "      <td>3.5</td>\n",
       "      <td>1.4</td>\n",
       "      <td>0.2</td>\n",
       "      <td>Iris-setosa</td>\n",
       "    </tr>\n",
       "    <tr>\n",
       "      <th>1</th>\n",
       "      <td>4.9</td>\n",
       "      <td>3.0</td>\n",
       "      <td>1.4</td>\n",
       "      <td>0.2</td>\n",
       "      <td>Iris-setosa</td>\n",
       "    </tr>\n",
       "    <tr>\n",
       "      <th>2</th>\n",
       "      <td>4.7</td>\n",
       "      <td>3.2</td>\n",
       "      <td>1.3</td>\n",
       "      <td>0.2</td>\n",
       "      <td>Iris-setosa</td>\n",
       "    </tr>\n",
       "    <tr>\n",
       "      <th>3</th>\n",
       "      <td>4.6</td>\n",
       "      <td>3.1</td>\n",
       "      <td>1.5</td>\n",
       "      <td>0.2</td>\n",
       "      <td>Iris-setosa</td>\n",
       "    </tr>\n",
       "    <tr>\n",
       "      <th>4</th>\n",
       "      <td>5.0</td>\n",
       "      <td>3.6</td>\n",
       "      <td>1.4</td>\n",
       "      <td>0.2</td>\n",
       "      <td>Iris-setosa</td>\n",
       "    </tr>\n",
       "  </tbody>\n",
       "</table>\n",
       "</div>"
      ],
      "text/plain": [
       "   sepal-length  sepal-width  petal-length  petal-width        class\n",
       "0           5.1          3.5           1.4          0.2  Iris-setosa\n",
       "1           4.9          3.0           1.4          0.2  Iris-setosa\n",
       "2           4.7          3.2           1.3          0.2  Iris-setosa\n",
       "3           4.6          3.1           1.5          0.2  Iris-setosa\n",
       "4           5.0          3.6           1.4          0.2  Iris-setosa"
      ]
     },
     "execution_count": 63,
     "metadata": {},
     "output_type": "execute_result"
    }
   ],
   "source": [
    "columns = [\"sepal-length\", \"sepal-width\", \"petal-length\", \"petal-width\", \"class\"]\n",
    "df = pd.read_csv(\"iris.data\", names=columns)\n",
    "df.head()"
   ]
  },
  {
   "cell_type": "code",
   "execution_count": 64,
   "id": "09a9d2fd",
   "metadata": {},
   "outputs": [
    {
     "data": {
      "text/html": [
       "<div>\n",
       "<style scoped>\n",
       "    .dataframe tbody tr th:only-of-type {\n",
       "        vertical-align: middle;\n",
       "    }\n",
       "\n",
       "    .dataframe tbody tr th {\n",
       "        vertical-align: top;\n",
       "    }\n",
       "\n",
       "    .dataframe thead th {\n",
       "        text-align: right;\n",
       "    }\n",
       "</style>\n",
       "<table border=\"1\" class=\"dataframe\">\n",
       "  <thead>\n",
       "    <tr style=\"text-align: right;\">\n",
       "      <th></th>\n",
       "      <th>sepal-length</th>\n",
       "      <th>sepal-width</th>\n",
       "      <th>petal-length</th>\n",
       "      <th>petal-width</th>\n",
       "    </tr>\n",
       "  </thead>\n",
       "  <tbody>\n",
       "    <tr>\n",
       "      <th>count</th>\n",
       "      <td>150.000000</td>\n",
       "      <td>150.000000</td>\n",
       "      <td>150.000000</td>\n",
       "      <td>150.000000</td>\n",
       "    </tr>\n",
       "    <tr>\n",
       "      <th>mean</th>\n",
       "      <td>5.843333</td>\n",
       "      <td>3.054000</td>\n",
       "      <td>3.758667</td>\n",
       "      <td>1.198667</td>\n",
       "    </tr>\n",
       "    <tr>\n",
       "      <th>std</th>\n",
       "      <td>0.828066</td>\n",
       "      <td>0.433594</td>\n",
       "      <td>1.764420</td>\n",
       "      <td>0.763161</td>\n",
       "    </tr>\n",
       "    <tr>\n",
       "      <th>min</th>\n",
       "      <td>4.300000</td>\n",
       "      <td>2.000000</td>\n",
       "      <td>1.000000</td>\n",
       "      <td>0.100000</td>\n",
       "    </tr>\n",
       "    <tr>\n",
       "      <th>25%</th>\n",
       "      <td>5.100000</td>\n",
       "      <td>2.800000</td>\n",
       "      <td>1.600000</td>\n",
       "      <td>0.300000</td>\n",
       "    </tr>\n",
       "    <tr>\n",
       "      <th>50%</th>\n",
       "      <td>5.800000</td>\n",
       "      <td>3.000000</td>\n",
       "      <td>4.350000</td>\n",
       "      <td>1.300000</td>\n",
       "    </tr>\n",
       "    <tr>\n",
       "      <th>75%</th>\n",
       "      <td>6.400000</td>\n",
       "      <td>3.300000</td>\n",
       "      <td>5.100000</td>\n",
       "      <td>1.800000</td>\n",
       "    </tr>\n",
       "    <tr>\n",
       "      <th>max</th>\n",
       "      <td>7.900000</td>\n",
       "      <td>4.400000</td>\n",
       "      <td>6.900000</td>\n",
       "      <td>2.500000</td>\n",
       "    </tr>\n",
       "  </tbody>\n",
       "</table>\n",
       "</div>"
      ],
      "text/plain": [
       "       sepal-length  sepal-width  petal-length  petal-width\n",
       "count    150.000000   150.000000    150.000000   150.000000\n",
       "mean       5.843333     3.054000      3.758667     1.198667\n",
       "std        0.828066     0.433594      1.764420     0.763161\n",
       "min        4.300000     2.000000      1.000000     0.100000\n",
       "25%        5.100000     2.800000      1.600000     0.300000\n",
       "50%        5.800000     3.000000      4.350000     1.300000\n",
       "75%        6.400000     3.300000      5.100000     1.800000\n",
       "max        7.900000     4.400000      6.900000     2.500000"
      ]
     },
     "execution_count": 64,
     "metadata": {},
     "output_type": "execute_result"
    }
   ],
   "source": [
    "df.describe()"
   ]
  },
  {
   "cell_type": "code",
   "execution_count": 65,
   "id": "d80ab746",
   "metadata": {},
   "outputs": [
    {
     "data": {
      "text/plain": [
       "<seaborn.axisgrid.FacetGrid at 0x27d4c886310>"
      ]
     },
     "execution_count": 65,
     "metadata": {},
     "output_type": "execute_result"
    },
    {
     "data": {
      "image/png": "[encoded data removed]",
      "text/plain": [
       "<Figure size 607.25x504 with 1 Axes>"
      ]
     },
     "metadata": {
      "needs_background": "light"
     },
     "output_type": "display_data"
    }
   ],
   "source": [
    "sns.FacetGrid(df, hue=\"class\", height=7) \\\n",
    ".map(plt.scatter, \"sepal-length\", \"sepal-width\") \\\n",
    ".add_legend()"
   ]
  },
  {
   "cell_type": "code",
   "execution_count": 66,
   "id": "65a0c719",
   "metadata": {},
   "outputs": [
    {
     "data": {
      "image/png": "[encoded data removed]",
      "text/plain": [
       "<Figure size 432x288 with 1 Axes>"
      ]
     },
     "metadata": {
      "needs_background": "light"
     },
     "output_type": "display_data"
    }
   ],
   "source": [
    "df = df.groupby('class')['sepal-length'].sum().to_frame().reset_index()\n",
    "#Creating the bar chart \n",
    "plt.bar(df['class'],df['sepal-length'],color = ['cornflowerblue','lightseagreen','steelblue']) \n",
    "#Adding the aesthetics\n",
    "plt.title('Bar Chart')\n",
    "plt.xlabel('Species')\n",
    "plt.ylabel('sepal_length') \n",
    "#Show the plot\n",
    "plt.show()"
   ]
  },
  {
   "cell_type": "code",
   "execution_count": 68,
   "id": "a3c04b18",
   "metadata": {},
   "outputs": [
    {
     "data": {
      "image/png": "[encoded data removed]",
      "text/plain": [
       "<Figure size 432x288 with 1 Axes>"
      ]
     },
     "metadata": {
      "needs_background": "light"
     },
     "output_type": "display_data"
    }
   ],
   "source": [
    "x = [5.1,3.5,1.4,0.2,4.9,3.0,1.4,0.2,4.7,3.2,1.3,0.2,\n",
    "4.6,3.1,1.5,0.2,\n",
    "5.0,3.6,1.4,0.2,\n",
    "5.4,3.9,1.7,0.4,\n",
    "4.6,3.4,1.4,0.3,\n",
    "5.0,3.4,1.5,0.2,\n",
    "4.4,2.9,1.4,0.2,\n",
    "4.9,3.1,1.5,0.1,\n",
    "5.4,3.7,1.5,0.2,\n",
    "4.8,3.4,1.6,0.2,\n",
    "4.8,3.0,1.4,0.1,\n",
    "4.3,3.0,1.1,0.1,\n",
    "5.8,4.0,1.2,0.2,\n",
    "5.7,4.4,1.5,0.4,\n",
    "5.4,3.9,1.3,0.4,\n",
    "5.1,3.5,1.4,0.3,\n",
    "5.7,3.8,1.7,0.3,\n",
    "5.1,3.8,1.5,0.3,\n",
    "5.4,3.4,1.7,0.2,\n",
    "5.1,3.7,1.5,0.4,\n",
    "4.6,3.6,1.0,0.2,\n",
    "5.1,3.3,1.7,0.5,\n",
    "4.8,3.4,1.9,0.2,\n",
    "5.0,3.0,1.6,0.2,\n",
    "5.0,3.4,1.6,0.4,\n",
    "5.2,3.5,1.5,0.2,\n",
    "5.2,3.4,1.4,0.2,\n",
    "4.7,3.2,1.6,0.2,\n",
    "4.8,3.1,1.6,0.2,\n",
    "5.4,3.4,1.5,0.4,\n",
    "5.2,4.1,1.5,0.1,\n",
    "5.5,4.2,1.4,0.2,\n",
    "4.9,3.1,1.5,0.1,\n",
    "5.0,3.2,1.2,0.2,\n",
    "5.5,3.5,1.3,0.2,\n",
    "4.9,3.1,1.5,0.1,\n",
    "4.4,3.0,1.3,0.2,\n",
    "5.1,3.4,1.5,0.2,\n",
    "5.0,3.5,1.3,0.3,\n",
    "4.5,2.3,1.3,0.3,\n",
    "4.4,3.2,1.3,0.2,\n",
    "5.0,3.5,1.6,0.6,\n",
    "5.1,3.8,1.9,0.4,\n",
    "4.8,3.0,1.4,0.3,\n",
    "5.1,3.8,1.6,0.2,\n",
    "4.6,3.2,1.4,0.2,\n",
    "5.3,3.7,1.5,0.2,\n",
    "5.0,3.3,1.4,0.2,\n",
    "7.0,3.2,4.7,1.4,\n",
    "6.4,3.2,4.5,1.5,\n",
    "6.9,3.1,4.9,1.5,\n",
    "5.5,2.3,4.0,1.3,\n",
    "6.5,2.8,4.6,1.5,\n",
    "5.7,2.8,4.5,1.3,\n",
    "6.3,3.3,4.7,1.6,\n",
    "4.9,2.4,3.3,1.0,\n",
    "6.6,2.9,4.6,1.3,\n",
    "5.2,2.7,3.9,1.4,\n",
    "5.0,2.0,3.5,1.0,\n",
    "5.9,3.0,4.2,1.5,\n",
    "6.0,2.2,4.0,1.0,\n",
    "6.1,2.9,4.7,1.4,\n",
    "5.6,2.9,3.6,1.3,\n",
    "6.7,3.1,4.4,1.4,\n",
    "5.6,3.0,4.5,1.5,\n",
    "5.8,2.7,4.1,1.0,\n",
    "6.2,2.2,4.5,1.5,\n",
    "5.6,2.5,3.9,1.1,\n",
    "5.9,3.2,4.8,1.8,\n",
    "6.1,2.8,4.0,1.3,\n",
    "6.3,2.5,4.9,1.5,\n",
    "6.1,2.8,4.7,1.2,\n",
    "6.4,2.9,4.3,1.3,\n",
    "6.6,3.0,4.4,1.4,\n",
    "6.8,2.8,4.8,1.4,\n",
    "6.7,3.0,5.0,1.7,\n",
    "6.0,2.9,4.5,1.5,\n",
    "5.7,2.6,3.5,1.0,\n",
    "5.5,2.4,3.8,1.1,\n",
    "5.5,2.4,3.7,1.0,\n",
    "5.8,2.7,3.9,1.2,\n",
    "6.0,2.7,5.1,1.6,\n",
    "5.4,3.0,4.5,1.5,\n",
    "6.0,3.4,4.5,1.6,\n",
    "6.7,3.1,4.7,1.5,\n",
    "6.3,2.3,4.4,1.3,\n",
    "5.6,3.0,4.1,1.3,\n",
    "5.5,2.5,4.0,1.3,\n",
    "5.5,2.6,4.4,1.2,\n",
    "6.1,3.0,4.6,1.4,\n",
    "5.8,2.6,4.0,1.2,\n",
    "5.0,2.3,3.3,1.0,\n",
    "5.6,2.7,4.2,1.3,\n",
    "5.7,3.0,4.2,1.2,\n",
    "5.7,2.9,4.2,1.3,\n",
    "6.2,2.9,4.3,1.3,\n",
    "5.1,2.5,3.0,1.1,\n",
    "5.7,2.8,4.1,1.3,\n",
    "6.3,3.3,6.0,2.5,\n",
    "5.8,2.7,5.1,1.9,\n",
    "7.1,3.0,5.9,2.1,\n",
    "6.3,2.9,5.6,1.8,\n",
    "6.5,3.0,5.8,2.2,\n",
    "7.6,3.0,6.6,2.1,\n",
    "4.9,2.5,4.5,1.7,\n",
    "7.3,2.9,6.3,1.8,\n",
    "6.7,2.5,5.8,1.8,\n",
    "7.2,3.6,6.1,2.5,\n",
    "6.5,3.2,5.1,2.0,\n",
    "6.4,2.7,5.3,1.9,\n",
    "6.8,3.0,5.5,2.1,\n",
    "5.7,2.5,5.0,2.0,\n",
    "5.8,2.8,5.1,2.4,\n",
    "6.4,3.2,5.3,2.3,\n",
    "6.5,3.0,5.5,1.8,\n",
    "7.7,3.8,6.7,2.2,\n",
    "7.7,2.6,6.9,2.3,\n",
    "6.0,2.2,5.0,1.5,\n",
    "6.9,3.2,5.7,2.3,\n",
    "5.6,2.8,4.9,2.0,\n",
    "7.7,2.8,6.7,2.0,\n",
    "6.3,2.7,4.9,1.8,\n",
    "6.7,3.3,5.7,2.1,\n",
    "7.2,3.2,6.0,1.8,\n",
    "6.2,2.8,4.8,1.8,\n",
    "6.1,3.0,4.9,1.8,\n",
    "6.4,2.8,5.6,2.1,\n",
    "7.2,3.0,5.8,1.6,\n",
    "7.4,2.8,6.1,1.9,\n",
    "7.9,3.8,6.4,2.0,\n",
    "6.4,2.8,5.6,2.2,\n",
    "6.3,2.8,5.1,1.5,\n",
    "6.1,2.6,5.6,1.4,\n",
    "7.7,3.0,6.1,2.3,\n",
    "6.3,3.4,5.6,2.4,\n",
    "6.4,3.1,5.5,1.8,\n",
    "6.0,3.0,4.8,1.8,\n",
    "6.9,3.1,5.4,2.1,\n",
    "6.7,3.1,5.6,2.4,\n",
    "6.9,3.1,5.1,2.3,\n",
    "5.8,2.7,5.1,1.9,\n",
    "6.8,3.2,5.9,2.3,\n",
    "6.7,3.3,5.7,2.5,\n",
    "6.7,3.0,5.2,2.3,\n",
    "6.3,2.5,5.0,1.9,\n",
    "6.5,3.0,5.2,2.0,\n",
    "6.2,3.4,5.4,2.3,\n",
    "5.9,3.0,5.1,1.8]\n",
    "\n",
    "plt.hist(x, bins=10)\n",
    "plt.title(\"Sepal-Length\")\n",
    "plt.xlabel(\"Points\")\n",
    "plt.ylabel(\"Frequency\")\n",
    "plt.show()"
   ]
  },
  {
   "cell_type": "code",
   "execution_count": 71,
   "id": "3927a8b6",
   "metadata": {},
   "outputs": [
    {
     "data": {
      "image/png": "[encoded data removed]",
      "text/plain": [
       "<Figure size 432x288 with 1 Axes>"
      ]
     },
     "metadata": {
      "needs_background": "light"
     },
     "output_type": "display_data"
    }
   ],
   "source": [
    "x_labels = [0,20,40,60,80,100,120,140]\n",
    "y1_values = [5.13,5.41,6.312,5.2241,6.321,7.8453,8.4214,7.1211]\n",
    "y2_values = [3.13,4.21,3.315,4.093,3.74,3.122,4.453,3.211]\n",
    "y3_values = [1.13,2.41,1.332,4.841,5.931,6.8453,5.497,5.571]\n",
    "y4_values = [0.92,1.021,0.976,1.46,1.986,2.321,3.4214,2.64]\n",
    "\n",
    "plt.plot(y1_values,color=\"skyblue\", linewidth=1)\n",
    "plt.plot(y2_values,color=\"orange\", linewidth=1)\n",
    "plt.plot(y3_values,color=\"green\", linewidth=1)\n",
    "plt.plot(y4_values,color=\"red\", linewidth=1)\n",
    "plt.title(\"Iris Dataset\")\n",
    "plt.xticks(np.arange(len(x_labels)), x_labels)\n",
    "\n",
    "plt.show()"
   ]
  },
  {
   "cell_type": "code",
   "execution_count": null,
   "id": "5ac11a98",
   "metadata": {},
   "outputs": [],
   "source": []
  }
 ],
 "metadata": {
  "kernelspec": {
   "display_name": "Python 3 (ipykernel)",
   "language": "python",
   "name": "python3"
  },
  "language_info": {
   "codemirror_mode": {
    "name": "ipython",
    "version": 3
   },
   "file_extension": ".py",
   "mimetype": "text/x-python",
   "name": "python",
   "nbconvert_exporter": "python",
   "pygments_lexer": "ipython3",
   "version": "3.9.7"
  }
 },
 "nbformat": 4,
 "nbformat_minor": 5
}
